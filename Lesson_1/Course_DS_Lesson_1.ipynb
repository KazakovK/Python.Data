{
  "nbformat": 4,
  "nbformat_minor": 0,
  "metadata": {
    "colab": {
      "name": "Course_DS: Lesson_1.ipynb",
      "provenance": [],
      "collapsed_sections": []
    },
    "kernelspec": {
      "name": "python3",
      "display_name": "Python 3"
    },
    "language_info": {
      "name": "python"
    }
  },
  "cells": [
    {
      "cell_type": "markdown",
      "metadata": {
        "id": "qasHx255Y5d1"
      },
      "source": [
        "### **Тема “Вычисления с помощью Numpy”**\n",
        "\n"
      ]
    },
    {
      "cell_type": "markdown",
      "metadata": {
        "id": "JLW00CybbBgs"
      },
      "source": [
        "Задание 1"
      ]
    },
    {
      "cell_type": "code",
      "metadata": {
        "id": "cvvMNVloY_4q",
        "colab": {
          "base_uri": "https://localhost:8080/"
        },
        "outputId": "3b3f28f5-2906-4150-e294-6b81caaf2c5f"
      },
      "source": [
        "import numpy as np\n",
        "a = np.array([[1,6],\n",
        "              [2,8],\n",
        "              [3,11],\n",
        "              [3,10],\n",
        "              [1,7]],dtype=int)\n",
        "\n",
        "mean_a = a.mean(axis=0)\n",
        "print(mean_a)"
      ],
      "execution_count": null,
      "outputs": [
        {
          "output_type": "stream",
          "name": "stdout",
          "text": [
            "[2.  8.4]\n"
          ]
        }
      ]
    },
    {
      "cell_type": "markdown",
      "metadata": {
        "id": "MWZNvYPxa8hE"
      },
      "source": [
        "Задание 2\n"
      ]
    },
    {
      "cell_type": "code",
      "metadata": {
        "colab": {
          "base_uri": "https://localhost:8080/"
        },
        "id": "bt8wKrQ-bNmK",
        "outputId": "4ea48561-286b-426c-c45d-d64f8cfd44fe"
      },
      "source": [
        "a_centered = a - mean_a\n",
        "print(a_centered)"
      ],
      "execution_count": null,
      "outputs": [
        {
          "output_type": "stream",
          "name": "stdout",
          "text": [
            "[[-1.  -2.4]\n",
            " [ 0.  -0.4]\n",
            " [ 1.   2.6]\n",
            " [ 1.   1.6]\n",
            " [-1.  -1.4]]\n"
          ]
        }
      ]
    },
    {
      "cell_type": "markdown",
      "metadata": {
        "id": "PHRviF8tbqpS"
      },
      "source": [
        "Задание 3"
      ]
    },
    {
      "cell_type": "code",
      "metadata": {
        "colab": {
          "base_uri": "https://localhost:8080/"
        },
        "id": "HZ_L8IUmbvaD",
        "outputId": "3d39ad1d-d3d7-424c-c366-1b137a6e2cbb"
      },
      "source": [
        "a_centered_sp = sum(a_centered[:,[0]] * a_centered[:,[1]])\n",
        "N = a.shape[0]\n",
        "a_centered_sp = a_centered_sp / (N-1)\n",
        "print(a_centered_sp)"
      ],
      "execution_count": null,
      "outputs": [
        {
          "output_type": "stream",
          "name": "stdout",
          "text": [
            "[2.]\n"
          ]
        }
      ]
    },
    {
      "cell_type": "markdown",
      "metadata": {
        "id": "jP2J79qBhQHH"
      },
      "source": [
        "Задание 4*"
      ]
    },
    {
      "cell_type": "code",
      "metadata": {
        "colab": {
          "base_uri": "https://localhost:8080/"
        },
        "id": "YzfR4_AihRk3",
        "outputId": "60939a1a-a6b3-4b96-8df2-a8db7a195d08"
      },
      "source": [
        "a_cov = np.transpose(a)\n",
        "a_centered_sp_2 = np.cov(a_cov, y=None, rowvar = True, bias = False)[0,1]\n",
        "check = a_centered_sp_2 == a_centered_sp\n",
        "print(check)"
      ],
      "execution_count": null,
      "outputs": [
        {
          "output_type": "stream",
          "name": "stdout",
          "text": [
            "True\n"
          ]
        }
      ]
    },
    {
      "cell_type": "markdown",
      "metadata": {
        "id": "ho0BSONIlWmy"
      },
      "source": [
        "Задание 5**"
      ]
    },
    {
      "cell_type": "code",
      "metadata": {
        "colab": {
          "base_uri": "https://localhost:8080/"
        },
        "id": "VfsK4ouHmtBk",
        "outputId": "3de762a4-27ae-4a61-9a70-3a57b8ef518c"
      },
      "source": [
        "new_list = []\n",
        "a_iter = a.copy()[:,[1]]\n",
        "for i in range(N):\n",
        "  max_val = a_iter.max()\n",
        "  max_index = np.where(a == max_val)[0]\n",
        "  new_list.append(max_index[0])\n",
        "  max_index = np.where(a_iter == max_val)[0]\n",
        "  a_iter = np.delete(a_iter, max_index)\n",
        "\n",
        "a_sort = a[new_list,:]\n",
        "print(a_sort)"
      ],
      "execution_count": null,
      "outputs": [
        {
          "output_type": "stream",
          "name": "stdout",
          "text": [
            "[[ 3 11]\n",
            " [ 3 10]\n",
            " [ 2  8]\n",
            " [ 1  7]\n",
            " [ 1  6]]\n"
          ]
        }
      ]
    },
    {
      "cell_type": "markdown",
      "metadata": {
        "id": "UHlJzYoqyghP"
      },
      "source": [
        "### **Тема “Работа с данными в Pandas”**\n"
      ]
    },
    {
      "cell_type": "markdown",
      "metadata": {
        "id": "W-0xC3nF6ng4"
      },
      "source": [
        "Задание 1"
      ]
    },
    {
      "cell_type": "code",
      "metadata": {
        "id": "zxYEimvJ6oRf"
      },
      "source": [
        "import pandas as pd\n",
        "\n",
        "authors = pd.DataFrame({\n",
        "    'author_id': [1, 2, 3],\n",
        "    'author_name': ['Тургенев', 'Чехов', 'Островский']})\n",
        "\n",
        "book = pd.DataFrame({'author_id': [1, 1, 1, 2, 2, 3, 3],\n",
        "'book_title': ['Отцы и дети', 'Рудин', 'Дворянское гнездо', 'Толстый и тонкий', 'Дама с собачкой', 'Гроза', 'Таланты и поклонники'],\n",
        "'price': [450, 300, 350, 500, 450, 370, 290]\n",
        "})\n",
        "\n"
      ],
      "execution_count": null,
      "outputs": []
    },
    {
      "cell_type": "markdown",
      "metadata": {
        "id": "S1pgrqB072gq"
      },
      "source": [
        "Задание 2"
      ]
    },
    {
      "cell_type": "code",
      "metadata": {
        "colab": {
          "base_uri": "https://localhost:8080/"
        },
        "id": "bT9sZmHK74PJ",
        "outputId": "6b4d3f8a-5908-4436-e534-b7b98fa222c6"
      },
      "source": [
        "authors_price = pd.merge(authors, book, on='author_id', how='right')\n",
        "print(authors_price)"
      ],
      "execution_count": null,
      "outputs": [
        {
          "output_type": "stream",
          "name": "stdout",
          "text": [
            "   author_id author_name            book_title  price\n",
            "0          1    Тургенев           Отцы и дети    450\n",
            "1          1    Тургенев                 Рудин    300\n",
            "2          1    Тургенев     Дворянское гнездо    350\n",
            "3          2       Чехов      Толстый и тонкий    500\n",
            "4          2       Чехов       Дама с собачкой    450\n",
            "5          3  Островский                 Гроза    370\n",
            "6          3  Островский  Таланты и поклонники    290\n"
          ]
        }
      ]
    },
    {
      "cell_type": "markdown",
      "metadata": {
        "id": "eL0SYtKs8iut"
      },
      "source": [
        "Задание 3"
      ]
    },
    {
      "cell_type": "code",
      "metadata": {
        "colab": {
          "base_uri": "https://localhost:8080/"
        },
        "id": "4k50D-RI81y5",
        "outputId": "abf028e7-4a82-4e28-b3a1-f2fac5905c0d"
      },
      "source": [
        "top5 = authors_price.nlargest(5, \"price\")\n",
        "print(top5)"
      ],
      "execution_count": null,
      "outputs": [
        {
          "output_type": "stream",
          "name": "stdout",
          "text": [
            "   author_id author_name         book_title  price\n",
            "3          2       Чехов   Толстый и тонкий    500\n",
            "0          1    Тургенев        Отцы и дети    450\n",
            "4          2       Чехов    Дама с собачкой    450\n",
            "5          3  Островский              Гроза    370\n",
            "2          1    Тургенев  Дворянское гнездо    350\n"
          ]
        }
      ]
    },
    {
      "cell_type": "markdown",
      "metadata": {
        "id": "h7lURiDS9eIK"
      },
      "source": [
        "Задание 4"
      ]
    },
    {
      "cell_type": "code",
      "metadata": {
        "colab": {
          "base_uri": "https://localhost:8080/"
        },
        "id": "n_5wu3SR9exM",
        "outputId": "df3f14e7-f52e-4550-b9c0-552a293c8d8a"
      },
      "source": [
        "authors_stat = authors_price.groupby(\"author_name\").agg({'price':['min','max','mean']})\n",
        "authors_stat.rename(columns = {'min' : 'min_price', 'max' : 'max_price','mean' : 'mean_price'}, inplace = True)\n",
        "\n",
        "print(authors_stat)"
      ],
      "execution_count": null,
      "outputs": [
        {
          "output_type": "stream",
          "name": "stdout",
          "text": [
            "                price                      \n",
            "            min_price max_price  mean_price\n",
            "author_name                                \n",
            "Островский        290       370  330.000000\n",
            "Тургенев          300       450  366.666667\n",
            "Чехов             450       500  475.000000\n"
          ]
        }
      ]
    },
    {
      "cell_type": "markdown",
      "metadata": {
        "id": "rWF5t0tEGIS0"
      },
      "source": [
        "Задание 5*"
      ]
    },
    {
      "cell_type": "code",
      "metadata": {
        "colab": {
          "base_uri": "https://localhost:8080/"
        },
        "id": "i9e-6ifkGlrv",
        "outputId": "ead6b78c-e587-4518-b7c5-b77398ccf168"
      },
      "source": [
        "authors_price [\"cover\"] = ['твердая', 'мягкая', 'мягкая', 'твердая', 'твердая', 'мягкая', 'мягкая']\n",
        "\n",
        "book_info = authors_price.pivot_table('price', index=['author_name'], columns= ['cover'], aggfunc = 'mean')\n",
        "book_info[\"мягкая\"] = book_info[\"мягкая\"].fillna(\"0\")\n",
        "book_info[\"твердая\"] = book_info[\"твердая\"].fillna(\"0\")\n",
        "book_info.to_pickle(\"book_info.pkl\")\n",
        "print(book_info)\n",
        "book_info2 = pd.read_pickle(\"book_info.pkl\")\n",
        "check = book_info == book_info2\n",
        "print(check)\n"
      ],
      "execution_count": null,
      "outputs": [
        {
          "output_type": "stream",
          "name": "stdout",
          "text": [
            "cover       мягкая твердая\n",
            "author_name               \n",
            "Островский       0     330\n",
            "Тургенев       325     450\n",
            "Чехов          475       0\n",
            "cover        мягкая  твердая\n",
            "author_name                 \n",
            "Островский     True     True\n",
            "Тургенев       True     True\n",
            "Чехов          True     True\n"
          ]
        }
      ]
    },
    {
      "cell_type": "markdown",
      "metadata": {
        "id": "QHSBKt1IjsP-"
      },
      "source": [
        "Задание 5**"
      ]
    },
    {
      "cell_type": "code",
      "metadata": {
        "colab": {
          "base_uri": "https://localhost:8080/",
          "height": 235
        },
        "id": "L9k2FsaUjt0G",
        "outputId": "c0da2e12-d5e3-4653-e1a4-b925b88af137"
      },
      "source": [
        "import numpy as np\n",
        "import pandas as pd\n",
        "from datetime import date\n",
        "\n",
        "period = {'begin': '2021-04-29', 'end': '2021-05-06'}\n",
        "filters = {'sale_id': [1, 2, 3, 4], 'cost': [600, 820, 100, 700, 0]}\n",
        "\n",
        "data = pd.DataFrame(\n",
        "            [[820, '2021-04-29', 1, 213],[100, '2021-04-29', 1, 213],\n",
        "             [600, '2021-04-30', 2, 113],[700, '2021-05-01', 3, 893],[0, '2021-05-03',4,0]],\n",
        "            columns=['cost', 'date', 'sale_id', 'shop_id']\n",
        "        )\n",
        "\n",
        "def calculate_sales_metrics(df, cost_name, date_name, sale_id_name, shop_id_name, period, filters=None):\n",
        "  df[date_name]= pd.to_datetime(df[date_name])\n",
        "\n",
        "  period_filter = pd.Series(period, index=list(period.keys()))\n",
        "  end = pd.Timestamp(period_filter['end'])\n",
        "  begin = pd.Timestamp(period_filter['begin'])\n",
        "  \n",
        "  condition = ((df[sale_id_name].isin(filters['sale_id'])) & \n",
        "               (df[cost_name].isin(filters['cost'])) & \n",
        "               (df[date_name] >= begin) & \n",
        "               (df[date_name] < end))\n",
        "  new_data = df[condition]\n",
        " \n",
        "  new_data = new_data.groupby(date_name).agg({cost_name:['sum','mean'], sale_id_name:['count'], shop_id_name:['mean']})\n",
        "  new_data.sort_values(by=date_name, inplace=True)\n",
        "  new_data['cost'] = new_data['cost'].fillna(\"0\")\n",
        "  new_data['sale_id'] = new_data['sale_id'].fillna(\"0\")\n",
        "  new_data['shop_id'] = new_data['shop_id'].fillna(\"0\")\n",
        "  new_data.rename(columns = {'sum' : 'revenue', 'count' : 'number_purchases','mean' : 'average_check','mean' : 'average_number_items'}, inplace = True)\n",
        "  \n",
        "  return new_data\n",
        "\n",
        "calculate_sales_metrics(data,'cost','date',\n",
        "                        'sale_id','shop_id',period,filters)"
      ],
      "execution_count": 242,
      "outputs": [
        {
          "output_type": "execute_result",
          "data": {
            "text/html": [
              "<div>\n",
              "<style scoped>\n",
              "    .dataframe tbody tr th:only-of-type {\n",
              "        vertical-align: middle;\n",
              "    }\n",
              "\n",
              "    .dataframe tbody tr th {\n",
              "        vertical-align: top;\n",
              "    }\n",
              "\n",
              "    .dataframe thead tr th {\n",
              "        text-align: left;\n",
              "    }\n",
              "\n",
              "    .dataframe thead tr:last-of-type th {\n",
              "        text-align: right;\n",
              "    }\n",
              "</style>\n",
              "<table border=\"1\" class=\"dataframe\">\n",
              "  <thead>\n",
              "    <tr>\n",
              "      <th></th>\n",
              "      <th colspan=\"2\" halign=\"left\">cost</th>\n",
              "      <th>sale_id</th>\n",
              "      <th>shop_id</th>\n",
              "    </tr>\n",
              "    <tr>\n",
              "      <th></th>\n",
              "      <th>revenue</th>\n",
              "      <th>average_number_items</th>\n",
              "      <th>number_purchases</th>\n",
              "      <th>average_number_items</th>\n",
              "    </tr>\n",
              "    <tr>\n",
              "      <th>date</th>\n",
              "      <th></th>\n",
              "      <th></th>\n",
              "      <th></th>\n",
              "      <th></th>\n",
              "    </tr>\n",
              "  </thead>\n",
              "  <tbody>\n",
              "    <tr>\n",
              "      <th>2021-04-29</th>\n",
              "      <td>920</td>\n",
              "      <td>460</td>\n",
              "      <td>2</td>\n",
              "      <td>213</td>\n",
              "    </tr>\n",
              "    <tr>\n",
              "      <th>2021-04-30</th>\n",
              "      <td>600</td>\n",
              "      <td>600</td>\n",
              "      <td>1</td>\n",
              "      <td>113</td>\n",
              "    </tr>\n",
              "    <tr>\n",
              "      <th>2021-05-01</th>\n",
              "      <td>700</td>\n",
              "      <td>700</td>\n",
              "      <td>1</td>\n",
              "      <td>893</td>\n",
              "    </tr>\n",
              "    <tr>\n",
              "      <th>2021-05-03</th>\n",
              "      <td>0</td>\n",
              "      <td>0</td>\n",
              "      <td>1</td>\n",
              "      <td>0</td>\n",
              "    </tr>\n",
              "  </tbody>\n",
              "</table>\n",
              "</div>"
            ],
            "text/plain": [
              "              cost                               sale_id              shop_id\n",
              "           revenue average_number_items number_purchases average_number_items\n",
              "date                                                                         \n",
              "2021-04-29     920                  460                2                  213\n",
              "2021-04-30     600                  600                1                  113\n",
              "2021-05-01     700                  700                1                  893\n",
              "2021-05-03       0                    0                1                    0"
            ]
          },
          "metadata": {},
          "execution_count": 242
        }
      ]
    }
  ]
}